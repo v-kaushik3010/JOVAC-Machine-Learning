{
  "nbformat": 4,
  "nbformat_minor": 0,
  "metadata": {
    "colab": {
      "provenance": []
    },
    "kernelspec": {
      "name": "python3",
      "display_name": "Python 3"
    },
    "language_info": {
      "name": "python"
    }
  },
  "cells": [
    {
      "cell_type": "markdown",
      "source": [
        "# ***ASSIGNMENT: 2 NUMPY***"
      ],
      "metadata": {
        "id": "GHHEoH2Wjrbr"
      }
    },
    {
      "cell_type": "markdown",
      "source": [
        "# TASK 1: Creating Arrays"
      ],
      "metadata": {
        "id": "aDGBMAC4dFUq"
      }
    },
    {
      "cell_type": "code",
      "execution_count": 4,
      "metadata": {
        "colab": {
          "base_uri": "https://localhost:8080/"
        },
        "id": "JV6ifyjGanMB",
        "outputId": "f013c70f-8907-4b2a-b170-d13efe700e2e"
      },
      "outputs": [
        {
          "output_type": "stream",
          "name": "stdout",
          "text": [
            "1D Array:\n",
            "[ 1  2  3  4  5  6  7  8  9 10]\n",
            "Shape: (10,)\n",
            "Size: 10\n",
            "Datatype: int64\n",
            "--------------------\n",
            "2D Array:\n",
            "[[1 2 3]\n",
            " [4 5 6]\n",
            " [7 8 9]]\n",
            "Shape: (3, 3)\n",
            "Size: 9\n",
            "Datatype: int64\n",
            "--------------------\n",
            "3D Array:\n",
            "[[[0.77875493 0.26729254 0.47217493]\n",
            "  [0.42950503 0.79511884 0.75166666]\n",
            "  [0.2697487  0.46370063 0.96069977]\n",
            "  [0.49431626 0.53530666 0.06385446]\n",
            "  [0.30087785 0.80203188 0.40176933]]\n",
            "\n",
            " [[0.24093856 0.92133314 0.5905683 ]\n",
            "  [0.30803601 0.04604434 0.59309616]\n",
            "  [0.27566662 0.88376449 0.39240762]\n",
            "  [0.20542201 0.90224168 0.07499489]\n",
            "  [0.85744606 0.77657672 0.25723833]]\n",
            "\n",
            " [[0.44335718 0.16007909 0.91327651]\n",
            "  [0.8965168  0.73480176 0.98950499]\n",
            "  [0.25266714 0.86384264 0.31233209]\n",
            "  [0.56238845 0.27121982 0.29712029]\n",
            "  [0.5895866  0.62329395 0.82698609]]]\n",
            "Shape: (3, 5, 3)\n",
            "Size: 45\n",
            "Datatype: float64\n",
            "--------------------\n"
          ]
        }
      ],
      "source": [
        "# 1. Write a Python program to:\n",
        "#  Create a 1D NumPy array of 10 integers ranging from 1 to 10.\n",
        "#  Create a 2D NumPy array of shape (3, 3) with integers from 1 to 9.\n",
        "#  Create a 3D NumPy array with random floating-point numbers of shape (3, 5, 3).\n",
        "# 2. Display the shape, size, and datatype of each array.\n",
        "\n",
        "import numpy as np\n",
        "\n",
        "# 1D array\n",
        "arr_1d = np.arange(1, 11)\n",
        "print(\"1D Array:\")\n",
        "print(arr_1d)\n",
        "print(\"Shape:\", arr_1d.shape)\n",
        "print(\"Size:\", arr_1d.size)\n",
        "print(\"Datatype:\", arr_1d.dtype)\n",
        "print(\"-\" * 20)\n",
        "\n",
        "# 2D array\n",
        "arr_2d = np.arange(1, 10).reshape(3, 3)\n",
        "print(\"2D Array:\")\n",
        "print(arr_2d)\n",
        "print(\"Shape:\", arr_2d.shape)\n",
        "print(\"Size:\", arr_2d.size)\n",
        "print(\"Datatype:\", arr_2d.dtype)\n",
        "print(\"-\" * 20)\n",
        "\n",
        "# 3D array\n",
        "arr_3d = np.random.rand(3, 5, 3)\n",
        "print(\"3D Array:\")\n",
        "print(arr_3d)\n",
        "print(\"Shape:\", arr_3d.shape)\n",
        "print(\"Size:\", arr_3d.size)\n",
        "print(\"Datatype:\", arr_3d.dtype)\n",
        "print(\"-\" * 20)"
      ]
    },
    {
      "cell_type": "markdown",
      "source": [
        "#Task 2: Array Indexing and Slicing"
      ],
      "metadata": {
        "id": "dhv32ywxdSKt"
      }
    },
    {
      "cell_type": "code",
      "source": [
        "# 1. Create a NumPy array from the following list:\n",
        "# data = [10, 20, 30, 40, 50, 60, 70, 80, 90]\n",
        "# 2. Write a Python program to:\n",
        "# o Retrieve the first three elements of the array.\n",
        "# o Retrieve every alternate element of the array.\n",
        "# o Reverse the array.\n",
        "# 3. Perform the above operations and display the results.\n",
        "\n",
        "# Task 2: Array Indexing and Slicing\n",
        "data = [10, 20, 30, 40, 50, 60, 70, 80, 90]\n",
        "arr = np.array(data)\n",
        "\n",
        "first_three = arr[:3]\n",
        "print(\"First three elements:\", first_three)\n",
        "\n",
        "alternate_elements = arr[::2]\n",
        "print(\"Every alternate element:\", alternate_elements)\n",
        "\n",
        "reversed_array = arr[::-1]\n",
        "print(\"Reversed array:\", reversed_array)"
      ],
      "metadata": {
        "colab": {
          "base_uri": "https://localhost:8080/"
        },
        "id": "buNQxQpZc1mn",
        "outputId": "0ac030b1-4993-4329-9d3a-82275f3bcf96"
      },
      "execution_count": 5,
      "outputs": [
        {
          "output_type": "stream",
          "name": "stdout",
          "text": [
            "First three elements: [10 20 30]\n",
            "Every alternate element: [10 30 50 70 90]\n",
            "Reversed array: [90 80 70 60 50 40 30 20 10]\n"
          ]
        }
      ]
    },
    {
      "cell_type": "markdown",
      "source": [
        "#Task 3: Mathematical Operations"
      ],
      "metadata": {
        "id": "3QeeaSQGdvvI"
      }
    },
    {
      "cell_type": "code",
      "source": [
        "# 1. Create two NumPy arrays, A and B, each with 5 random integers\n",
        "# between 1 and 20.\n",
        "# 2. Write a Python program to:\n",
        "# o Add, subtract, multiply, and divide the two arrays element\n",
        "# wise.\n",
        "# o Compute the dot product of the arrays.\n",
        "# o Find the mean, median, standard deviation, and variance of\n",
        "# array A.\n",
        "# o Identify the maximum and minimum values in array B and\n",
        "# their indices.\n",
        "\n",
        "\n",
        "A = np.random.randint(1, 21, 5)\n",
        "B = np.random.randint(1, 21, 5)\n",
        "print(\"Array A:\", A)\n",
        "print(\"Array B:\", B)\n",
        "\n",
        "# Element-wise operations\n",
        "print(\"Addition (A + B):\", A + B)\n",
        "print(\"Subtraction (A - B):\", A - B)\n",
        "print(\"Multiplication (A * B):\", A * B)\n",
        "print(\"Division (A / B):\", A / B)\n",
        "\n",
        "# Dot product\n",
        "dot_product = np.dot(A, B)\n",
        "print(\"Dot Product (A . B):\", dot_product)\n",
        "\n",
        "# Statistics for array A\n",
        "print(\"Mean of A:\", np.mean(A))\n",
        "print(\"Median of A:\", np.median(A))\n",
        "print(\"Standard Deviation of A:\", np.std(A))\n",
        "print(\"Variance of A:\", np.var(A))\n",
        "\n",
        "# Max/Min for array B\n",
        "max_B = np.max(B)\n",
        "min_B = np.min(B)\n",
        "max_index_B = np.argmax(B)\n",
        "min_index_B = np.argmin(B)\n",
        "print(\"Maximum value in B:\", max_B, \"at index\", max_index_B)\n",
        "print(\"Minimum value in B:\", min_B, \"at index\", min_index_B)"
      ],
      "metadata": {
        "colab": {
          "base_uri": "https://localhost:8080/"
        },
        "id": "-SVYRZj3df76",
        "outputId": "64495f6d-bbaa-4c5d-b722-0fa25940fd25"
      },
      "execution_count": 7,
      "outputs": [
        {
          "output_type": "stream",
          "name": "stdout",
          "text": [
            "Array A: [10 18  5 12  2]\n",
            "Array B: [ 5 13  3  8 13]\n",
            "Addition (A + B): [15 31  8 20 15]\n",
            "Subtraction (A - B): [  5   5   2   4 -11]\n",
            "Multiplication (A * B): [ 50 234  15  96  26]\n",
            "Division (A / B): [2.         1.38461538 1.66666667 1.5        0.15384615]\n",
            "Dot Product (A . B): 421\n",
            "Mean of A: 9.4\n",
            "Median of A: 10.0\n",
            "Standard Deviation of A: 5.571355310873647\n",
            "Variance of A: 31.04\n",
            "Maximum value in B: 13 at index 1\n",
            "Minimum value in B: 3 at index 2\n"
          ]
        }
      ]
    },
    {
      "cell_type": "markdown",
      "source": [
        "# Task 4: Reshaping and Transposing"
      ],
      "metadata": {
        "id": "agoE9TeUg0Kr"
      }
    },
    {
      "cell_type": "code",
      "source": [
        "# 1. Create a 1D NumPy array of 12 integers ranging from 1 to 12.\n",
        "# 2. Write a Python program to:\n",
        "# o Reshape the array into a 2D array of shape (4, 3).\n",
        "# o Reshape the array into a 3D array of shape (2, 2, 3).\n",
        "# o Transpose the reshaped 2D array and display its shape.\n",
        "\n",
        "arr_5 = np.arange(1, 13)\n",
        "print(\"Original 1D array (1-12):\")\n",
        "print(arr_5)\n",
        "print(\"-\" * 20)\n",
        "\n",
        "arr_2d_reshaped = arr_5.reshape(4, 3)\n",
        "print(\"Reshaped to 2D array (4, 3):\")\n",
        "print(arr_2d_reshaped)\n",
        "print(\"Shape:\", arr_2d_reshaped.shape)\n",
        "print(\"-\" * 20)\n",
        "\n",
        "arr_3d_reshaped = arr_5.reshape(2, 2, 3)\n",
        "print(\"Reshaped to 3D array (2, 2, 3):\")\n",
        "print(arr_3d_reshaped)\n",
        "print(\"Shape:\", arr_3d_reshaped.shape)\n",
        "print(\"-\" * 20)\n",
        "\n",
        "arr_2d_transposed = arr_2d_reshaped.transpose()\n",
        "print(\"Transposed 2D array:\")\n",
        "print(arr_2d_transposed)\n",
        "print(\"Shape:\", arr_2d_transposed.shape)\n",
        "print(\"-\" * 20)"
      ],
      "metadata": {
        "colab": {
          "base_uri": "https://localhost:8080/"
        },
        "id": "03U_pXJ3grYJ",
        "outputId": "7b3c23b2-3857-41a1-c545-64d1405505e2"
      },
      "execution_count": 8,
      "outputs": [
        {
          "output_type": "stream",
          "name": "stdout",
          "text": [
            "Original 1D array (1-12):\n",
            "[ 1  2  3  4  5  6  7  8  9 10 11 12]\n",
            "--------------------\n",
            "Reshaped to 2D array (4, 3):\n",
            "[[ 1  2  3]\n",
            " [ 4  5  6]\n",
            " [ 7  8  9]\n",
            " [10 11 12]]\n",
            "Shape: (4, 3)\n",
            "--------------------\n",
            "Reshaped to 3D array (2, 2, 3):\n",
            "[[[ 1  2  3]\n",
            "  [ 4  5  6]]\n",
            "\n",
            " [[ 7  8  9]\n",
            "  [10 11 12]]]\n",
            "Shape: (2, 2, 3)\n",
            "--------------------\n",
            "Transposed 2D array:\n",
            "[[ 1  4  7 10]\n",
            " [ 2  5  8 11]\n",
            " [ 3  6  9 12]]\n",
            "Shape: (3, 4)\n",
            "--------------------\n"
          ]
        }
      ]
    },
    {
      "cell_type": "markdown",
      "source": [
        "# Task 5: Boolean Masking and Filtering"
      ],
      "metadata": {
        "id": "jriiqq0Ohm_P"
      }
    },
    {
      "cell_type": "code",
      "source": [
        "# 1. Create a NumPy array with 15 random integers between 10 and 50.\n",
        "# 2. Write a Python program to:\n",
        "# o Find all elements greater than 25.\n",
        "# o Replace all elements less than 30 with 0.\n",
        "# o Count the number of elements divisible by 5.\n",
        "\n",
        "arr_task5 = np.random.randint(10, 51, 15)\n",
        "print(\"Original array:\", arr_task5)\n",
        "print(\"-\" * 20)\n",
        "\n",
        "greater_than_25 = arr_task5[arr_task5 > 25]\n",
        "print(\"Elements greater than 25:\", greater_than_25)\n",
        "print(\"-\" * 20)\n",
        "\n",
        "arr_task5[arr_task5 < 30] = 0\n",
        "print(\"Array after replacing elements less than 30 with 0:\", arr_task5)\n",
        "print(\"-\" * 20)\n",
        "\n",
        "\n",
        "divisible_by_5_count = np.sum(arr_task5 % 5 == 0)\n",
        "print(\"Number of elements divisible by 5:\", divisible_by_5_count)\n",
        "print(\"-\" * 20)"
      ],
      "metadata": {
        "colab": {
          "base_uri": "https://localhost:8080/"
        },
        "id": "7RGx9ppFg4b0",
        "outputId": "246496d2-cfd1-4b64-b16d-ea8328b7d47e"
      },
      "execution_count": 11,
      "outputs": [
        {
          "output_type": "stream",
          "name": "stdout",
          "text": [
            "Original array: [48 36 27 47 32 19 30 22 22 36 33 50 50 21 30]\n",
            "--------------------\n",
            "Elements greater than 25: [48 36 27 47 32 30 36 33 50 50 30]\n",
            "--------------------\n",
            "Array after replacing elements less than 30 with 0: [48 36  0 47 32  0 30  0  0 36 33 50 50  0 30]\n",
            "--------------------\n",
            "Number of elements divisible by 5: 9\n",
            "--------------------\n"
          ]
        }
      ]
    },
    {
      "cell_type": "markdown",
      "source": [
        "#Task 6: Working with Built-in Functions"
      ],
      "metadata": {
        "id": "jAMFgBVRidzv"
      }
    },
    {
      "cell_type": "code",
      "source": [
        "# 1. Use NumPy's built-in functions to:\n",
        "# o Create an array of 10 equally spaced values between 0 and 1.\n",
        "# o Create an identity matrix of size 4x4.\n",
        "# o Generate a 1D array of 20 random integers between 1 and 100,\n",
        "# sort it, and find the 5 largest elements.\n",
        "\n",
        "linspace_array = np.linspace(0, 1, 10)\n",
        "print(\"Array of 10 equally spaced values between 0 and 1:\")\n",
        "print(linspace_array)\n",
        "print(\"-\" * 20)\n",
        "\n",
        "identity_matrix = np.eye(4)\n",
        "print(\"Identity matrix of size 4x4:\")\n",
        "print(identity_matrix)\n",
        "print(\"-\" * 20)\n",
        "\n",
        "random_integers = np.random.randint(1, 101, 20)\n",
        "print(\"Original random integers array:\")\n",
        "print(random_integers)\n",
        "\n",
        "sorted_random_integers = np.sort(random_integers)\n",
        "print(\"Sorted random integers array:\")\n",
        "print(sorted_random_integers)\n",
        "\n",
        "largest_5_elements = sorted_random_integers[-5:]\n",
        "print(\"The 5 largest elements:\")\n",
        "print(largest_5_elements)\n",
        "print(\"-\" * 20)"
      ],
      "metadata": {
        "colab": {
          "base_uri": "https://localhost:8080/"
        },
        "id": "nddqqwEqiNw9",
        "outputId": "45f62d3d-4852-4336-b208-511a6d748ca7"
      },
      "execution_count": 12,
      "outputs": [
        {
          "output_type": "stream",
          "name": "stdout",
          "text": [
            "Array of 10 equally spaced values between 0 and 1:\n",
            "[0.         0.11111111 0.22222222 0.33333333 0.44444444 0.55555556\n",
            " 0.66666667 0.77777778 0.88888889 1.        ]\n",
            "--------------------\n",
            "Identity matrix of size 4x4:\n",
            "[[1. 0. 0. 0.]\n",
            " [0. 1. 0. 0.]\n",
            " [0. 0. 1. 0.]\n",
            " [0. 0. 0. 1.]]\n",
            "--------------------\n",
            "Original random integers array:\n",
            "[74  9 89 39 32 81 26 60  1 62 71 96 11 63 33  9 96 82 92 91]\n",
            "Sorted random integers array:\n",
            "[ 1  9  9 11 26 32 33 39 60 62 63 71 74 81 82 89 91 92 96 96]\n",
            "The 5 largest elements:\n",
            "[89 91 92 96 96]\n",
            "--------------------\n"
          ]
        }
      ]
    },
    {
      "cell_type": "markdown",
      "source": [
        "#Task 7: Generic"
      ],
      "metadata": {
        "id": "nnC5qgwmi65T"
      }
    },
    {
      "cell_type": "code",
      "source": [
        "# 1. Create a Python program that:\n",
        "# o Generates two large random arrays of size (100, 100).\n",
        "# o Performs matrix multiplication on the two arrays.\n",
        "# o Finds the determinant and inverse of the resulting matrix (if\n",
        "# possible).\n",
        "# o Measures the time taken to complete these operations.\n",
        "\n",
        "import time\n",
        "\n",
        "\n",
        "start_time = time.time()\n",
        "\n",
        "size = (100, 100)\n",
        "array1 = np.random.rand(*size)\n",
        "array2 = np.random.rand(*size)\n",
        "\n",
        "print(f\"Generated two random arrays of size {size}\")\n",
        "\n",
        "\n",
        "result_matrix = np.dot(array1, array2)\n",
        "print(\"Performed matrix multiplication\")\n",
        "\n",
        "determinant = np.linalg.det(result_matrix)\n",
        "print(f\"Determinant of the resulting matrix: {determinant}\")\n",
        "\n",
        "try:\n",
        "  inverse_matrix = np.linalg.inv(result_matrix)\n",
        "  print(\"Found the inverse of the resulting matrix\")\n",
        "except np.linalg.LinAlgError:\n",
        "  inverse_matrix = None\n",
        "  print(\"Could not find the inverse (matrix is singular)\")\n",
        "\n",
        "end_time = time.time()\n",
        "time_taken = end_time - start_time\n",
        "\n",
        "print(f\"Time taken for operations: {time_taken:.4f} seconds\")\n",
        "print(\"-\" * 20)"
      ],
      "metadata": {
        "colab": {
          "base_uri": "https://localhost:8080/"
        },
        "id": "vABz4Zo7ipn6",
        "outputId": "025c052f-5c92-441a-866a-4a3fd83cf99d"
      },
      "execution_count": 18,
      "outputs": [
        {
          "output_type": "stream",
          "name": "stdout",
          "text": [
            "Generated two random arrays of size (100, 100)\n",
            "Performed matrix multiplication\n",
            "Determinant of the resulting matrix: -1.2561284165182584e+50\n",
            "Found the inverse of the resulting matrix\n",
            "Time taken for operations: 0.0465 seconds\n",
            "--------------------\n"
          ]
        }
      ]
    }
  ]
}