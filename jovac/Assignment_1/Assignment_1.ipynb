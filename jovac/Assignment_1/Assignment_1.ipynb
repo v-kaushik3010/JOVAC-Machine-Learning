{
  "nbformat": 4,
  "nbformat_minor": 0,
  "metadata": {
    "colab": {
      "provenance": []
    },
    "kernelspec": {
      "name": "python3",
      "display_name": "Python 3"
    },
    "language_info": {
      "name": "python"
    }
  },
  "cells": [
    {
      "cell_type": "markdown",
      "source": [
        "# **ASSIGNMENT 1**\n",
        "\n",
        "**make a custom error**"
      ],
      "metadata": {
        "id": "weLG1mTCTN2-"
      }
    },
    {
      "cell_type": "code",
      "execution_count": 8,
      "metadata": {
        "colab": {
          "base_uri": "https://localhost:8080/",
          "height": 453
        },
        "id": "jIlIo-1pQj4M",
        "outputId": "f14eda72-6c76-496e-fffe-391c078d5cdd"
      },
      "outputs": [
        {
          "output_type": "stream",
          "name": "stdout",
          "text": [
            "Success: 15 divided by 3 equals 5.0\n",
            "Routine finished.\n",
            "\n",
            "Math Error: Division by zero is undefined.\n",
            "Routine finished.\n",
            "\n",
            "Input Error Encountered: Expected numeric values for both arguments.\n",
            "Routine finished.\n",
            "\n"
          ]
        },
        {
          "output_type": "error",
          "ename": "InputTypeException",
          "evalue": "Expected numeric values for both arguments.",
          "traceback": [
            "\u001b[0;31m---------------------------------------------------------------------------\u001b[0m",
            "\u001b[0;31mInputTypeException\u001b[0m                        Traceback (most recent call last)",
            "\u001b[0;32m/tmp/ipython-input-8-3752167277.py\u001b[0m in \u001b[0;36m<cell line: 0>\u001b[0;34m()\u001b[0m\n\u001b[1;32m     24\u001b[0m \u001b[0msafe_divide\u001b[0m\u001b[0;34m(\u001b[0m\u001b[0;36m15\u001b[0m\u001b[0;34m,\u001b[0m \u001b[0;36m3\u001b[0m\u001b[0;34m)\u001b[0m               \u001b[0;31m# ✅ Valid division\u001b[0m\u001b[0;34m\u001b[0m\u001b[0;34m\u001b[0m\u001b[0m\n\u001b[1;32m     25\u001b[0m \u001b[0msafe_divide\u001b[0m\u001b[0;34m(\u001b[0m\u001b[0;36m8\u001b[0m\u001b[0;34m,\u001b[0m \u001b[0;36m0\u001b[0m\u001b[0;34m)\u001b[0m                \u001b[0;31m# ❌ Division by zero\u001b[0m\u001b[0;34m\u001b[0m\u001b[0;34m\u001b[0m\u001b[0m\n\u001b[0;32m---> 26\u001b[0;31m \u001b[0msafe_divide\u001b[0m\u001b[0;34m(\u001b[0m\u001b[0;36m5\u001b[0m\u001b[0;34m,\u001b[0m \u001b[0;34m\"hello\"\u001b[0m\u001b[0;34m)\u001b[0m          \u001b[0;31m# ❌ Invalid input type(custom exception)\u001b[0m\u001b[0;34m\u001b[0m\u001b[0;34m\u001b[0m\u001b[0m\n\u001b[0m",
            "\u001b[0;32m/tmp/ipython-input-8-3752167277.py\u001b[0m in \u001b[0;36msafe_divide\u001b[0;34m(x, y)\u001b[0m\n\u001b[1;32m      8\u001b[0m     \u001b[0;32mtry\u001b[0m\u001b[0;34m:\u001b[0m\u001b[0;34m\u001b[0m\u001b[0;34m\u001b[0m\u001b[0m\n\u001b[1;32m      9\u001b[0m         \u001b[0;32mif\u001b[0m \u001b[0;32mnot\u001b[0m \u001b[0mall\u001b[0m\u001b[0;34m(\u001b[0m\u001b[0misinstance\u001b[0m\u001b[0;34m(\u001b[0m\u001b[0mval\u001b[0m\u001b[0;34m,\u001b[0m \u001b[0;34m(\u001b[0m\u001b[0mint\u001b[0m\u001b[0;34m,\u001b[0m \u001b[0mfloat\u001b[0m\u001b[0;34m)\u001b[0m\u001b[0;34m)\u001b[0m \u001b[0;32mfor\u001b[0m \u001b[0mval\u001b[0m \u001b[0;32min\u001b[0m \u001b[0;34m(\u001b[0m\u001b[0mx\u001b[0m\u001b[0;34m,\u001b[0m \u001b[0my\u001b[0m\u001b[0;34m)\u001b[0m\u001b[0;34m)\u001b[0m\u001b[0;34m:\u001b[0m\u001b[0;34m\u001b[0m\u001b[0;34m\u001b[0m\u001b[0m\n\u001b[0;32m---> 10\u001b[0;31m             \u001b[0;32mraise\u001b[0m \u001b[0mInputTypeException\u001b[0m\u001b[0;34m(\u001b[0m\u001b[0;34m\"Expected numeric values for both arguments.\"\u001b[0m\u001b[0;34m)\u001b[0m\u001b[0;34m\u001b[0m\u001b[0;34m\u001b[0m\u001b[0m\n\u001b[0m\u001b[1;32m     11\u001b[0m \u001b[0;34m\u001b[0m\u001b[0m\n\u001b[1;32m     12\u001b[0m         \u001b[0moutcome\u001b[0m \u001b[0;34m=\u001b[0m \u001b[0mx\u001b[0m \u001b[0;34m/\u001b[0m \u001b[0my\u001b[0m  \u001b[0;31m# Can raise ZeroDivisionError\u001b[0m\u001b[0;34m\u001b[0m\u001b[0;34m\u001b[0m\u001b[0m\n",
            "\u001b[0;31mInputTypeException\u001b[0m: Expected numeric values for both arguments."
          ]
        }
      ],
      "source": [
        "# Custom exception class for input validation\n",
        "class InputTypeException(Exception):\n",
        "    def __init__(self, detail=\"Input must be either integer or float.\"):\n",
        "        super().__init__(detail)\n",
        "\n",
        "# Function to perform division with error handling\n",
        "def safe_divide(x, y):\n",
        "    try:\n",
        "        if not all(isinstance(val, (int, float)) for val in (x, y)):\n",
        "            raise InputTypeException(\"Expected numeric values for both arguments.\")\n",
        "\n",
        "        outcome = x / y  # Can raise ZeroDivisionError\n",
        "    except InputTypeException as err:\n",
        "        print(\"Input Error Encountered:\", err)\n",
        "        raise  # Re-raise the error\n",
        "    except ZeroDivisionError:\n",
        "        print(\"Math Error: Division by zero is undefined.\")\n",
        "    else:\n",
        "        print(f\"Success: {x} divided by {y} equals {outcome}\")\n",
        "    finally:\n",
        "        print(\"Routine finished.\\n\")\n",
        "\n",
        "# Execution samples\n",
        "safe_divide(15, 3)               #  Valid division\n",
        "safe_divide(8, 0)                #  Division by zero\n",
        "safe_divide(5, \"hello\")          #  Invalid input type(custom exception)"
      ]
    },
    {
      "cell_type": "markdown",
      "source": [
        "**2. Create a 2D array**"
      ],
      "metadata": {
        "id": "LGCIGAufYdcj"
      }
    },
    {
      "cell_type": "code",
      "source": [
        "import numpy as np\n",
        "\n",
        "arr =np.array([\n",
        "    [1, 2, 3],\n",
        "    [3, 7, 6],\n",
        "    [7, 5, 9]\n",
        "])"
      ],
      "metadata": {
        "id": "LkLymEPKZAnw"
      },
      "execution_count": 10,
      "outputs": []
    },
    {
      "cell_type": "markdown",
      "source": [
        "**3. write in csv format**"
      ],
      "metadata": {
        "id": "7zWyTAiMZRN4"
      }
    },
    {
      "cell_type": "code",
      "source": [
        "np.savetxt(\"arr.csv\", arr, delimiter=\",\")"
      ],
      "metadata": {
        "id": "o5PwFvoVZQyY"
      },
      "execution_count": 11,
      "outputs": []
    },
    {
      "cell_type": "markdown",
      "source": [
        "**4. read it back from csv format**"
      ],
      "metadata": {
        "id": "e19FSc2tZynV"
      }
    },
    {
      "cell_type": "code",
      "source": [
        "data = np.loadtxt(\"arr.csv\", delimiter=\",\")"
      ],
      "metadata": {
        "id": "DWjRVseOZ4Ab"
      },
      "execution_count": 13,
      "outputs": []
    }
  ]
}